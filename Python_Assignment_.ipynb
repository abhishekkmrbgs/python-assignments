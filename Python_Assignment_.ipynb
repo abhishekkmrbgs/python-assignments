{
  "nbformat": 4,
  "nbformat_minor": 0,
  "metadata": {
    "colab": {
      "provenance": [],
      "authorship_tag": "ABX9TyO9Am7/2B4IUMWSy4Wsc+L4",
      "include_colab_link": true
    },
    "kernelspec": {
      "name": "python3",
      "display_name": "Python 3"
    },
    "language_info": {
      "name": "python"
    }
  },
  "cells": [
    {
      "cell_type": "markdown",
      "metadata": {
        "id": "view-in-github",
        "colab_type": "text"
      },
      "source": [
        "<a href=\"https://colab.research.google.com/github/abhishekkmrbgs/python-assignments/blob/main/Python_Assignment_.ipynb\" target=\"_parent\"><img src=\"https://colab.research.google.com/assets/colab-badge.svg\" alt=\"Open In Colab\"/></a>"
      ]
    },
    {
      "cell_type": "markdown",
      "source": [
        "Java + DSA\n",
        "#1. Explain the key features of Python that make it a popular choice for programming.\n",
        "\n",
        "    Python is a high-level, interpreted programming language known for its simplicity, readability, and versatility. Created by Guido van Rossum and first released in 1991.\n",
        "\n",
        "    Python was designed to emphasize code readability with a clean and straightforward syntax, allowing programmers to express concepts with fewer lines of code compared to many other languages.\n",
        "\n",
        "\n",
        "    Key Features of Python:\n",
        "\n",
        "    a. Easy to Learn and Use : Python codes reads almost like English , making it intutive for beginners to understand what each line of code is doing.\n",
        "    for example, instead of using complex symbol, python often used words like \"print\" to display output.\n",
        "\n",
        "    Print(\"Hello world\")\n",
        "     \n",
        "    This line code printed Hello world to the screen.\n",
        "\n",
        "\n",
        "    b. Interpreted Language  : Python is an interpreted language, meaning code is executed line-by-line, making it easier to debug and test. For beginners, especially those not fluent in English, this helps them catch errors early and understand what went wrong without complex compilation steps.\n",
        "    for example,\n",
        "    a = 5\n",
        "    b = 3\n",
        "    print(a + b)\n",
        "    8\n",
        "    Line 1 (a = 5): The interpreter reads this line and stores the value 5 in the variable a.\n",
        "\n",
        "    Line 2 (b = 3): The interpreter moves to this line and stores the value 3 in the variable b.\n",
        "\n",
        "    Line 3 (print(a + b)): The interpreter evaluates a + b (which is 5 + 3 = 8) and then prints 8 to the console.\n",
        "\n",
        "\n",
        "\n",
        "\n",
        "\n",
        "\n",
        "    c. Large Community and Support :  Python has an active community that contributes to its development, provides support, and creates a wealth of learning resources and libraries, making it easier for newcomers to learn and get help.\n",
        "\n",
        "\n",
        "\n",
        "    d. supports Multiple Programming Paradigms : Python supports object-oriented programming (OOP), which enables encapsulation, inheritance, and polymorphism.\n",
        "    It also supports functional programming, allowing the use of features like lambda functions, map, and filter.\n",
        "    This flexibility enables developers to choose the paradigm that best fits their project.\n",
        "\n",
        "\n",
        "\n",
        "\n",
        "\n",
        "\n",
        "    e. Large Ecosystem of Libraries and Frameworks\n",
        "\n",
        "    Python has a massive ecosystem, with libraries and frameworks for virtually every application:\n",
        "    Data Science and Machine Learning: Libraries like NumPy, pandas, scikit-learn, and TensorFlow make Python ideal for data analysis and AI.\n",
        "    Web Development: Frameworks like Django and Flask support robust, scalable web applications.\n",
        "    Automation and Scripting: Libraries for system administration, task automation, and DevOps make it popular for these fields.\n",
        "\n",
        "    f.  Automation and Scripting :\n",
        "   \n",
        "    Python is widely used for automating repetitive tasks in system administration, DevOps, and testing. It’s an ideal scripting language because of its simplicity and extensive library support, which helps automate complex workflows efficiently.\n",
        "\n",
        "    g.  Dominance in Data Science and Machine Learning :\n",
        "\n",
        "    Python’s popularity in data science is unmatched, thanks to its robust libraries for data analysis, machine learning, and visualization.\n",
        "    With powerful libraries like TensorFlow, Keras, scikit-learn, and pandas, Python has become the go-to language for professionals in data science, AI, and machine learning.\n",
        "\n",
        "\n",
        "\n",
        "\n",
        "    Python’s simplicity, flexibility, strong community, and vast ecosystem make it a powerful choice for beginners and professionals alike. Whether you’re building a quick automation script or developing complex machine learning algorithms, Python’s features empower developers across various domains."
      ],
      "metadata": {
        "id": "2kdpE3z0R1xX"
      }
    },
    {
      "cell_type": "markdown",
      "source": [
        "#2. Describe the role of predefined keywords in Python and provide examples of how they are used in a program.\n",
        "\n",
        "\n",
        "    > Predefined keywords\n",
        "\n",
        "    Keywords are reserved words in Python that have special meanings and cannot be used as identifiers (variable names, function names, etc.).\n",
        "\n",
        "    Examples of keywords include if, else, while, for, def, class, import, try, except, return, True, False, None, etc.\n",
        "\n",
        "    Keywords are case-sensitive and cannot be redefined or overridden within a Python program.\n",
        "\n",
        "\n",
        "    > Control Flow Keywords\n",
        "\n",
        "    if, elif, else: Used for conditional branching. They help control which block of code runs based on specific conditions.\n",
        "\n",
        "    Example:\n",
        "\n",
        "\n"
      ],
      "metadata": {
        "id": "H_kSH5ytYTM8"
      }
    },
    {
      "cell_type": "code",
      "source": [
        "age = 18\n",
        "if age >= 18:\n",
        "    print(\"You are an adult.\")\n",
        "elif age > 12:\n",
        "    print(\"You are a teenager.\")\n",
        "else:\n",
        "    print(\"You are a child.\")\n"
      ],
      "metadata": {
        "colab": {
          "base_uri": "https://localhost:8080/"
        },
        "id": "V5-uqPbEak0j",
        "outputId": "27cb9730-8f7b-46b8-db44-6ae81f48c353"
      },
      "execution_count": null,
      "outputs": [
        {
          "output_type": "stream",
          "name": "stdout",
          "text": [
            "You are an adult.\n"
          ]
        }
      ]
    },
    {
      "cell_type": "code",
      "source": [
        " #for, while, break, continue: Used for looping and controlling loop flow. simple example\n",
        "\n",
        "\n",
        "# Using for loop with continue\n",
        "\n",
        "for i in range(5):\n",
        "    if i == 2:\n",
        "        continue  # Skip the rest of the loop body when i is 2\n",
        "    print(i)  # This will print 0, 1, 3, 4 (skipping 2)\n",
        "\n",
        "\n",
        "\n"
      ],
      "metadata": {
        "colab": {
          "base_uri": "https://localhost:8080/"
        },
        "id": "UUBwEBt5aGCi",
        "outputId": "b1288008-786e-4e48-eb84-d826786d7095"
      },
      "execution_count": null,
      "outputs": [
        {
          "output_type": "stream",
          "name": "stdout",
          "text": [
            "0\n",
            "1\n",
            "3\n",
            "4\n"
          ]
        }
      ]
    },
    {
      "cell_type": "code",
      "source": [
        "# Using while loop with break\n",
        "\n",
        "count = 0\n",
        "while count < 5:\n",
        "    if count == 3:\n",
        "        break  # Exit the loop when count is 3\n",
        "    print(count)\n",
        "    count += 1  # This will print 0, 1, 2 (stops at 3)"
      ],
      "metadata": {
        "colab": {
          "base_uri": "https://localhost:8080/"
        },
        "id": "FvTv7GfpcLhz",
        "outputId": "641b7bbd-7875-4146-ab73-310dd80dbd61"
      },
      "execution_count": null,
      "outputs": [
        {
          "output_type": "stream",
          "name": "stdout",
          "text": [
            "0\n",
            "1\n",
            "2\n"
          ]
        }
      ]
    },
    {
      "cell_type": "markdown",
      "source": [
        "    > Logical and Boolean Keywords\n",
        "\n",
        "    and, or, not: Used to perform logical operations."
      ],
      "metadata": {
        "id": "pVeGCLv1dwXI"
      }
    },
    {
      "cell_type": "code",
      "source": [
        "is_raining = True\n",
        "has_umbrella = False\n",
        "\n",
        "if is_raining and not has_umbrella:\n",
        "    print(\"You should take an umbrella.\")\n",
        "elif is_raining or has_umbrella:\n",
        "    print(\"You may be fine.\")\n"
      ],
      "metadata": {
        "colab": {
          "base_uri": "https://localhost:8080/"
        },
        "id": "hQxizAb_eJSz",
        "outputId": "e2df9e35-58a6-4998-c627-f548efeca3cf"
      },
      "execution_count": null,
      "outputs": [
        {
          "output_type": "stream",
          "name": "stdout",
          "text": [
            "You should take an umbrella.\n"
          ]
        }
      ]
    },
    {
      "cell_type": "markdown",
      "source": [
        "    > Exception Handling Keywords\n",
        "\n",
        "    try, except, finally: Used for error handling."
      ],
      "metadata": {
        "id": "bY20SqeGesX_"
      }
    },
    {
      "cell_type": "code",
      "source": [
        "try:\n",
        "    result = 10 / 0\n",
        "except ZeroDivisionError:\n",
        "    print(\"Cannot divide by zero.\")\n",
        "finally:\n",
        "    print(\"Operation complete.\")\n"
      ],
      "metadata": {
        "colab": {
          "base_uri": "https://localhost:8080/"
        },
        "id": "bPutCXH_eu2q",
        "outputId": "e34f9685-d707-44ca-bfcc-dd2aa25bfc55"
      },
      "execution_count": null,
      "outputs": [
        {
          "output_type": "stream",
          "name": "stdout",
          "text": [
            "Cannot divide by zero.\n",
            "Operation complete.\n"
          ]
        }
      ]
    },
    {
      "cell_type": "markdown",
      "source": [
        " # 3. Compare and contrast mutable and immutable objects in python   with examples.\n",
        "\n",
        "    1. Definition\n",
        "\n",
        "    > Mutable Objects\n",
        "\n",
        "    Definition: Mutable objects allow their values or contents to be changed after the object is created.\n",
        "\n",
        "    Examples: Lists, dictionaries, sets, and most user-defined objects.\n",
        "\n",
        "    > Characteristics of Mutable Objects:\n",
        "\n",
        "    Editable: You can alter the contents without creating a new object.\n",
        "\n",
        "\n",
        "    Same Memory Location: Modifying a mutable object (like a list) does not create a new object; the existing object in memory is altered.\n",
        "\n",
        "    > Immutable Objects\n",
        "\n",
        "    Definition: Immutable objects do not allow modifications after creation. Any operation that seems to modify the object actually creates a new object.\n",
        "\n",
        "    Examples: Integers, floats, strings, tuples, and frozensets.\n",
        "\n",
        "    > Characteristics of Immutable Objects:\n",
        "\n",
        "    Unchangeable: Once created, their contents cannot be altered.\n",
        "    New Memory Location on Change: Operations that alter an immutable object create a new object with a different memory address.\n",
        "\n",
        "\n",
        "    > Use Cases\n",
        "\n",
        "    Mutable Objects are preferred when you need to frequently modify data, such as updating elements in a list.\n",
        "\n",
        "    \n",
        "    Immutable Objects are useful when you need to ensure data remains constant throughout the program, like using strings as dictionary keys.\n",
        "\n",
        "\n",
        "\n",
        "    2. Examples\n",
        "\n",
        "    Mutable types: Lists, dictionaries, sets, byte arrays.\n",
        "\n",
        "\n",
        "    Immutable types: Integers, floats, strings, tuples, frozensets.\n",
        "\n",
        "\n",
        "   \n",
        "\n",
        "    \n",
        "\n"
      ],
      "metadata": {
        "id": "rUtlgo05fBdm"
      }
    },
    {
      "cell_type": "markdown",
      "source": [],
      "metadata": {
        "id": "qd-SdyijctBA"
      }
    },
    {
      "cell_type": "code",
      "source": [
        "#Mutable Example: List\n",
        "\n",
        "my_list = [1, 2, 3]\n",
        "my_list.append(4)  # Modifying the list\n",
        "print(my_list)"
      ],
      "metadata": {
        "colab": {
          "base_uri": "https://localhost:8080/"
        },
        "id": "KkujH5cifYU0",
        "outputId": "45cb2a12-b514-4ed0-8069-4de04f9fe0ba"
      },
      "execution_count": null,
      "outputs": [
        {
          "output_type": "stream",
          "name": "stdout",
          "text": [
            "[1, 2, 3, 4]\n"
          ]
        }
      ]
    },
    {
      "cell_type": "code",
      "source": [
        "# Modifying the list by changing an element\n",
        "my_list = [1, 2, 3]\n",
        "my_list[0] = 4\n",
        "print(my_list)  # Output: [4, 2, 3]"
      ],
      "metadata": {
        "colab": {
          "base_uri": "https://localhost:8080/"
        },
        "id": "4C79VUROgKgB",
        "outputId": "7760ba3b-f84c-469d-e87f-52e002808a55"
      },
      "execution_count": null,
      "outputs": [
        {
          "output_type": "stream",
          "name": "stdout",
          "text": [
            "[4, 2, 3]\n"
          ]
        }
      ]
    },
    {
      "cell_type": "code",
      "source": [
        "#Immutable Example: String\n",
        "\n",
        "my_string = \"Hello\"\n",
        "new_string = my_string + \" World\"  # Creating a new string\n",
        "print(new_string)  # Output: \"Hello World\""
      ],
      "metadata": {
        "colab": {
          "base_uri": "https://localhost:8080/"
        },
        "id": "H6DSOD43gU4J",
        "outputId": "2992de13-2e64-4949-a2a3-6de82961477c"
      },
      "execution_count": null,
      "outputs": [
        {
          "output_type": "stream",
          "name": "stdout",
          "text": [
            "Hello World\n"
          ]
        }
      ]
    },
    {
      "cell_type": "markdown",
      "source": [
        "# 4. Discuss the different types of operators in Python and provide examples of how they are used.\n",
        "\n",
        "    python operators:- Special Keyword , symbol that are use to perform operation on value or variable.\n",
        "     \n",
        "    We want to manage do computation and make decision using data.\n",
        "\n",
        "    > Many types of operators in python\n",
        "    1. Arithmetic operators\n",
        "    2. Assignment operatirs\n",
        "    3. Comparison Operators\n",
        "    4. Logical Operators\n",
        "    5. Bitwise Operators\n",
        "    6. Membership Operators\n",
        "    7. Identity Operators"
      ],
      "metadata": {
        "id": "zn18JDUVcudI"
      }
    },
    {
      "cell_type": "markdown",
      "source": [
        "> Arithmetic Operators.\n",
        "\n",
        "    These operators perform basic mathematical operations on numbers.\n",
        "\n",
        "    Addition (+):\n",
        "    Subtraction (-) :\n",
        "    Multiplication (*):\n",
        "    Division (/):\n",
        "    Floor Division (//):\n",
        "    Modulus (%) :\n",
        "    Exponentiation (**):"
      ],
      "metadata": {
        "id": "Q4ILyfIYkH-M"
      }
    },
    {
      "cell_type": "code",
      "source": [
        "a = 10\n",
        "b = 5\n",
        "print(a + b)  # Output: 15\n"
      ],
      "metadata": {
        "colab": {
          "base_uri": "https://localhost:8080/"
        },
        "id": "JxleZN8rg0gp",
        "outputId": "4400008d-6be6-4b27-9f17-b12fd0e4f239"
      },
      "execution_count": null,
      "outputs": [
        {
          "output_type": "stream",
          "name": "stdout",
          "text": [
            "15\n"
          ]
        }
      ]
    },
    {
      "cell_type": "code",
      "source": [
        "print(a - b)  # Output: 5\n"
      ],
      "metadata": {
        "colab": {
          "base_uri": "https://localhost:8080/"
        },
        "id": "X9Z-Nsk5j-Pu",
        "outputId": "6b108e8e-eb61-40b8-dbb6-a42dd8ced4a6"
      },
      "execution_count": null,
      "outputs": [
        {
          "output_type": "stream",
          "name": "stdout",
          "text": [
            "5\n"
          ]
        }
      ]
    },
    {
      "cell_type": "code",
      "source": [
        "print(a * b)  # Output: 50\n"
      ],
      "metadata": {
        "colab": {
          "base_uri": "https://localhost:8080/"
        },
        "id": "IT7jvd-Gk5fD",
        "outputId": "0e1ce2d5-eeb3-4c45-8902-3147e4376578"
      },
      "execution_count": null,
      "outputs": [
        {
          "output_type": "stream",
          "name": "stdout",
          "text": [
            "50\n"
          ]
        }
      ]
    },
    {
      "cell_type": "code",
      "source": [
        "print(a / b)  # Output: 2.0\n"
      ],
      "metadata": {
        "colab": {
          "base_uri": "https://localhost:8080/"
        },
        "id": "j1WPgSTck8ro",
        "outputId": "364dc0d2-52bc-4e28-9083-60ff540ae647"
      },
      "execution_count": null,
      "outputs": [
        {
          "output_type": "stream",
          "name": "stdout",
          "text": [
            "2.0\n"
          ]
        }
      ]
    },
    {
      "cell_type": "code",
      "source": [
        "print(a // b)  # Output: 2\n"
      ],
      "metadata": {
        "colab": {
          "base_uri": "https://localhost:8080/"
        },
        "id": "Hjr323T8k-b4",
        "outputId": "d7868de7-fe47-4678-fe81-9ecc24434032"
      },
      "execution_count": null,
      "outputs": [
        {
          "output_type": "stream",
          "name": "stdout",
          "text": [
            "2\n"
          ]
        }
      ]
    },
    {
      "cell_type": "code",
      "source": [
        "print(a % b)  # Output: 0\n"
      ],
      "metadata": {
        "colab": {
          "base_uri": "https://localhost:8080/"
        },
        "id": "ZdeARMEOlBEx",
        "outputId": "3e13f9ab-1d26-4194-9017-846d9fbb3ad0"
      },
      "execution_count": null,
      "outputs": [
        {
          "output_type": "stream",
          "name": "stdout",
          "text": [
            "0\n"
          ]
        }
      ]
    },
    {
      "cell_type": "code",
      "source": [
        "print(a ** 2)  # Output: 100\n"
      ],
      "metadata": {
        "colab": {
          "base_uri": "https://localhost:8080/"
        },
        "id": "-oTfpVr5lFyR",
        "outputId": "beb380f1-c1f2-436b-87b2-6c056a5b4211"
      },
      "execution_count": null,
      "outputs": [
        {
          "output_type": "stream",
          "name": "stdout",
          "text": [
            "100\n"
          ]
        }
      ]
    },
    {
      "cell_type": "code",
      "source": [],
      "metadata": {
        "id": "G7guylEVlMyN"
      },
      "execution_count": null,
      "outputs": []
    },
    {
      "cell_type": "markdown",
      "source": [
        " . > Assignment Operators\n",
        "\n",
        "    These operators assign values to variables and can combine assignment with other operations.\n",
        "    1. Simple assignment (=) :\n",
        "    2. Add and assign (+=):\n",
        "    3. Subtract and assign (-=):\n",
        "    4. Multiply and assign (*=):\n",
        "    5. Divide and assign (/=):"
      ],
      "metadata": {
        "id": "UgM_VZp3lYQ9"
      }
    },
    {
      "cell_type": "code",
      "source": [
        "a = 5\n"
      ],
      "metadata": {
        "id": "wQnqKwsymDAd"
      },
      "execution_count": null,
      "outputs": []
    },
    {
      "cell_type": "code",
      "source": [
        "a += 5  # Equivalent to a = a + 5\n",
        "print(a)  # Output: 10\n"
      ],
      "metadata": {
        "colab": {
          "base_uri": "https://localhost:8080/"
        },
        "id": "KaZLp4XTmZQV",
        "outputId": "4aceccc7-62a7-4227-9457-3c2ac8b3140a"
      },
      "execution_count": null,
      "outputs": [
        {
          "output_type": "stream",
          "name": "stdout",
          "text": [
            "10\n"
          ]
        }
      ]
    },
    {
      "cell_type": "code",
      "source": [
        "a -= 3  # Equivalent to a = a - 3\n",
        "print(a)  # Output: 7\n"
      ],
      "metadata": {
        "colab": {
          "base_uri": "https://localhost:8080/"
        },
        "id": "LLeqTRlimepd",
        "outputId": "675c6e52-34df-4795-d1b9-a72d6f82098d"
      },
      "execution_count": null,
      "outputs": [
        {
          "output_type": "stream",
          "name": "stdout",
          "text": [
            "7\n"
          ]
        }
      ]
    },
    {
      "cell_type": "code",
      "source": [
        "a *= 2  # Equivalent to a = a * 2\n",
        "print(a)  # Output: 14\n"
      ],
      "metadata": {
        "colab": {
          "base_uri": "https://localhost:8080/"
        },
        "id": "1StAysnjmhoS",
        "outputId": "48596dcd-3e61-4f9a-a66b-788b57da229a"
      },
      "execution_count": null,
      "outputs": [
        {
          "output_type": "stream",
          "name": "stdout",
          "text": [
            "14\n"
          ]
        }
      ]
    },
    {
      "cell_type": "code",
      "source": [
        "a /= 2  # Equivalent to a = a / 2\n",
        "print(a)  # Output: 7.0\n"
      ],
      "metadata": {
        "colab": {
          "base_uri": "https://localhost:8080/"
        },
        "id": "2O9DVkpNmki0",
        "outputId": "987081fd-0e5c-41d5-8e8b-b8579ae351a3"
      },
      "execution_count": null,
      "outputs": [
        {
          "output_type": "stream",
          "name": "stdout",
          "text": [
            "7.0\n"
          ]
        }
      ]
    },
    {
      "cell_type": "markdown",
      "source": [
        ". > Comparison Operators\n",
        "\n",
        "    These operators compare two values and return a Boolean (True or False).\n",
        "\n",
        "    1. Equal to (==) :\n",
        "    2. Not equal to (!=) :\n",
        "    3. Greater than (>) :\n",
        "    4. Less than (<):\n",
        "    5. Greater than or equal to (>=):\n",
        "    6. Less than or equal to (<=):"
      ],
      "metadata": {
        "id": "PCsT1pC2m3dy"
      }
    },
    {
      "cell_type": "code",
      "source": [
        "a = 10\n",
        "b = 5\n",
        "print(a == b)  # Output: False\n",
        "\n"
      ],
      "metadata": {
        "colab": {
          "base_uri": "https://localhost:8080/"
        },
        "id": "obHXS3ZXm2tm",
        "outputId": "c557a5ac-5a6b-45f1-b764-5d88ce3c8935"
      },
      "execution_count": null,
      "outputs": [
        {
          "output_type": "stream",
          "name": "stdout",
          "text": [
            "False\n"
          ]
        }
      ]
    },
    {
      "cell_type": "code",
      "source": [
        "print(a != b)  # Output: True\n"
      ],
      "metadata": {
        "colab": {
          "base_uri": "https://localhost:8080/"
        },
        "id": "U-Qn_kAPnv4Z",
        "outputId": "b5fefb7f-fe03-437d-8fdb-fc82f46e460c"
      },
      "execution_count": null,
      "outputs": [
        {
          "output_type": "stream",
          "name": "stdout",
          "text": [
            "True\n"
          ]
        }
      ]
    },
    {
      "cell_type": "code",
      "source": [
        "print(a > b)  # Output: True\n"
      ],
      "metadata": {
        "colab": {
          "base_uri": "https://localhost:8080/"
        },
        "id": "pG0nHEvunzoe",
        "outputId": "ece52e38-4370-402a-efbc-e6b9d56cd260"
      },
      "execution_count": null,
      "outputs": [
        {
          "output_type": "stream",
          "name": "stdout",
          "text": [
            "True\n"
          ]
        }
      ]
    },
    {
      "cell_type": "code",
      "source": [
        "print(a < b)  # Output: False\n"
      ],
      "metadata": {
        "colab": {
          "base_uri": "https://localhost:8080/"
        },
        "id": "4Ff3NTPvn289",
        "outputId": "6a2224db-1ff1-4ae3-80cb-c96c97890344"
      },
      "execution_count": null,
      "outputs": [
        {
          "output_type": "stream",
          "name": "stdout",
          "text": [
            "False\n"
          ]
        }
      ]
    },
    {
      "cell_type": "code",
      "source": [
        "print(a >= b)  # Output: True\n"
      ],
      "metadata": {
        "colab": {
          "base_uri": "https://localhost:8080/"
        },
        "id": "jMOpz5MOn6Bc",
        "outputId": "22d537b9-c9b9-4bfc-c2e4-df607605ac7c"
      },
      "execution_count": null,
      "outputs": [
        {
          "output_type": "stream",
          "name": "stdout",
          "text": [
            "True\n"
          ]
        }
      ]
    },
    {
      "cell_type": "code",
      "source": [
        "print(a <= b)  # Output: False\n"
      ],
      "metadata": {
        "colab": {
          "base_uri": "https://localhost:8080/"
        },
        "id": "rr-p5GfQoKfA",
        "outputId": "ba7f65fc-b2f6-46a7-c67b-1a138cb4f733"
      },
      "execution_count": null,
      "outputs": [
        {
          "output_type": "stream",
          "name": "stdout",
          "text": [
            "False\n"
          ]
        }
      ]
    },
    {
      "cell_type": "markdown",
      "source": [
        ". > Logical Operators\n",
        "\n",
        "\n",
        "\n",
        "    Logical operators are used to combine conditional statements.\n",
        "\n",
        "    1. AND (and): Returns True if both operands are true.\n",
        "    2. OR (or): Returns True if at least one operand is true.\n",
        "    3. NOT (not): Returns True if the operand is false."
      ],
      "metadata": {
        "id": "DRgohT32oW6t"
      }
    },
    {
      "cell_type": "code",
      "source": [
        "x = True\n",
        "y = False\n",
        "print(x and y)  # Output: False\n"
      ],
      "metadata": {
        "colab": {
          "base_uri": "https://localhost:8080/"
        },
        "id": "5mXqjLRhotjD",
        "outputId": "300ddc66-0cec-4c15-c49a-0bbd8997744b"
      },
      "execution_count": null,
      "outputs": [
        {
          "output_type": "stream",
          "name": "stdout",
          "text": [
            "False\n"
          ]
        }
      ]
    },
    {
      "cell_type": "code",
      "source": [
        "print(x or y)  # Output: True\n"
      ],
      "metadata": {
        "colab": {
          "base_uri": "https://localhost:8080/"
        },
        "id": "bge5M1Fmoufo",
        "outputId": "eb6e2e60-6133-4328-bfad-92bfe3738503"
      },
      "execution_count": null,
      "outputs": [
        {
          "output_type": "stream",
          "name": "stdout",
          "text": [
            "True\n"
          ]
        }
      ]
    },
    {
      "cell_type": "code",
      "source": [
        "print(not x)  # Output: False\n"
      ],
      "metadata": {
        "colab": {
          "base_uri": "https://localhost:8080/"
        },
        "id": "tRfk3wF9owP6",
        "outputId": "ebb6aa87-5c8d-42a4-9c11-7a97e2eb8305"
      },
      "execution_count": null,
      "outputs": [
        {
          "output_type": "stream",
          "name": "stdout",
          "text": [
            "False\n"
          ]
        }
      ]
    },
    {
      "cell_type": "markdown",
      "source": [
        ". >  Bitwise Operators\n",
        "\n",
        "\n",
        "    Bitwise operators operate on binary digits of numbers.\n",
        "\n",
        "\n",
        "    1. AND (&):\n",
        "    2. OR (|):\n",
        "    3. XOR (^):\n",
        "    4. NOT (~):\n",
        "    5. Left Shift (<<):\n",
        "    6. Right Shift (>>):"
      ],
      "metadata": {
        "id": "8pqc0ZgLo7pW"
      }
    },
    {
      "cell_type": "code",
      "source": [
        "a = 5  # 0b0101\n",
        "b = 3  # 0b0011\n",
        "print(a & b)  # Output: 1 (0b0001)\n"
      ],
      "metadata": {
        "colab": {
          "base_uri": "https://localhost:8080/"
        },
        "id": "ka-Hm4popoY6",
        "outputId": "9a856c57-603a-4a35-dcb0-7e08a677b1bf"
      },
      "execution_count": null,
      "outputs": [
        {
          "output_type": "stream",
          "name": "stdout",
          "text": [
            "1\n"
          ]
        }
      ]
    },
    {
      "cell_type": "code",
      "source": [
        "print(a | b)  # Output: 7 (0b0111)\n"
      ],
      "metadata": {
        "colab": {
          "base_uri": "https://localhost:8080/"
        },
        "id": "du7mBSzEpvnX",
        "outputId": "63ff6762-43c6-4dbd-ae33-3a545348f97e"
      },
      "execution_count": null,
      "outputs": [
        {
          "output_type": "stream",
          "name": "stdout",
          "text": [
            "7\n"
          ]
        }
      ]
    },
    {
      "cell_type": "code",
      "source": [
        "print(a ^ b)  # Output: 6 (0b0110)\n"
      ],
      "metadata": {
        "colab": {
          "base_uri": "https://localhost:8080/"
        },
        "id": "EWw4TFaxqAas",
        "outputId": "0708cbf9-2438-4812-98df-3d522137acf9"
      },
      "execution_count": null,
      "outputs": [
        {
          "output_type": "stream",
          "name": "stdout",
          "text": [
            "6\n"
          ]
        }
      ]
    },
    {
      "cell_type": "code",
      "source": [
        "print(~a)  # Output: -6 (Inverts all bits)\n"
      ],
      "metadata": {
        "colab": {
          "base_uri": "https://localhost:8080/"
        },
        "id": "vW_HW0DCqC-E",
        "outputId": "dd562b27-e4d0-4ad3-c1c5-23da097f4027"
      },
      "execution_count": null,
      "outputs": [
        {
          "output_type": "stream",
          "name": "stdout",
          "text": [
            "-6\n"
          ]
        }
      ]
    },
    {
      "cell_type": "code",
      "source": [
        "print(a << 1)  # Output: 10 (0b1010)\n"
      ],
      "metadata": {
        "colab": {
          "base_uri": "https://localhost:8080/"
        },
        "id": "-NiDX8ogqE6u",
        "outputId": "08912e3b-baf6-4dda-dae1-8b0de47d1449"
      },
      "execution_count": null,
      "outputs": [
        {
          "output_type": "stream",
          "name": "stdout",
          "text": [
            "10\n"
          ]
        }
      ]
    },
    {
      "cell_type": "code",
      "source": [
        "print(a >> 1)  # Output: 2 (0b0010)\n"
      ],
      "metadata": {
        "colab": {
          "base_uri": "https://localhost:8080/"
        },
        "id": "jkjQBmM_qHjG",
        "outputId": "2131e637-42c8-4b4f-977f-faed67eb8b7a"
      },
      "execution_count": null,
      "outputs": [
        {
          "output_type": "stream",
          "name": "stdout",
          "text": [
            "2\n"
          ]
        }
      ]
    },
    {
      "cell_type": "markdown",
      "source": [
        " .> Membership Operators\n",
        "\n",
        "\n",
        "\n",
        "    These operators check for membership within a sequence (like a string, list, or tuple).\n",
        "\n",
        "    1. In (in): Returns True if a specified value is found in the sequence.\n",
        "\n",
        "    2. Not in (not in): Returns True if a specified value is not found in the sequence."
      ],
      "metadata": {
        "id": "BdKL-eHpqaBi"
      }
    },
    {
      "cell_type": "code",
      "source": [
        "my_list = [1, 2, 3, 4]\n",
        "print(2 in my_list)  # Output: True\n"
      ],
      "metadata": {
        "colab": {
          "base_uri": "https://localhost:8080/"
        },
        "id": "ebupJtHY1ZMS",
        "outputId": "b1ddf163-22d9-44f1-e6a0-ac53c6d90965"
      },
      "execution_count": null,
      "outputs": [
        {
          "output_type": "stream",
          "name": "stdout",
          "text": [
            "True\n"
          ]
        }
      ]
    },
    {
      "cell_type": "code",
      "source": [
        "my_list = [1, 2, 3, 4]\n",
        "print(5 in my_list)  # Output: False\n"
      ],
      "metadata": {
        "colab": {
          "base_uri": "https://localhost:8080/"
        },
        "id": "v0GXqDiM1tEk",
        "outputId": "39b4e06b-89c4-4949-ee53-a6df9e2b4391"
      },
      "execution_count": null,
      "outputs": [
        {
          "output_type": "stream",
          "name": "stdout",
          "text": [
            "False\n"
          ]
        }
      ]
    },
    {
      "cell_type": "code",
      "source": [
        "print(5 not in my_list)  # Output: True\n"
      ],
      "metadata": {
        "colab": {
          "base_uri": "https://localhost:8080/"
        },
        "id": "7n8MLWZd1apZ",
        "outputId": "f2c1ecde-78cd-4b55-d2ea-654d6d57fffb"
      },
      "execution_count": null,
      "outputs": [
        {
          "output_type": "stream",
          "name": "stdout",
          "text": [
            "True\n"
          ]
        }
      ]
    },
    {
      "cell_type": "code",
      "source": [
        "print(4 not in my_list)  # Output: False\n"
      ],
      "metadata": {
        "colab": {
          "base_uri": "https://localhost:8080/"
        },
        "id": "5DTVUzk31dgL",
        "outputId": "45f81a20-903a-4517-faae-778e64c98527"
      },
      "execution_count": null,
      "outputs": [
        {
          "output_type": "stream",
          "name": "stdout",
          "text": [
            "False\n"
          ]
        }
      ]
    },
    {
      "cell_type": "markdown",
      "source": [
        " .>Identity Operators\n",
        "\n",
        "    Identity operators check if two objects reference the same memory location.\n",
        "\n",
        "    Is (is): Returns True if both operands refer to the same object.\n",
        "\n",
        "    Is not (is not): Returns True if operands do not refer to the same object."
      ],
      "metadata": {
        "id": "vaCGVH_12G5I"
      }
    },
    {
      "cell_type": "code",
      "source": [
        "a = [1, 2, 3]\n",
        "b = a\n",
        "print(a is b)  # Output: True\n"
      ],
      "metadata": {
        "colab": {
          "base_uri": "https://localhost:8080/"
        },
        "id": "YxcGNTgX2Yl1",
        "outputId": "aa8f5fd4-1eb2-4e42-ed3f-708b5d01bd56"
      },
      "execution_count": null,
      "outputs": [
        {
          "output_type": "stream",
          "name": "stdout",
          "text": [
            "True\n"
          ]
        }
      ]
    },
    {
      "cell_type": "code",
      "source": [
        "c = [1, 2, 3]\n",
        "print(a is not c)  # Output: True\n"
      ],
      "metadata": {
        "colab": {
          "base_uri": "https://localhost:8080/"
        },
        "id": "PmYQZ_Bu2p3h",
        "outputId": "a31d8af2-d178-4a0a-ad32-26e10aab47f1"
      },
      "execution_count": null,
      "outputs": [
        {
          "output_type": "stream",
          "name": "stdout",
          "text": [
            "True\n"
          ]
        }
      ]
    },
    {
      "cell_type": "code",
      "source": [
        "c = [1, 2, 3]\n",
        "print(b is not c)  # Output: True\n",
        "\n"
      ],
      "metadata": {
        "colab": {
          "base_uri": "https://localhost:8080/"
        },
        "id": "8dlLSpPN2srT",
        "outputId": "5e88916f-6c8b-48ab-d868-214d9431feb6"
      },
      "execution_count": null,
      "outputs": [
        {
          "output_type": "stream",
          "name": "stdout",
          "text": [
            "True\n"
          ]
        }
      ]
    },
    {
      "cell_type": "markdown",
      "source": [
        "# 5. Explain the concept of type casting in Python with examples.\n",
        "\n",
        "\n",
        "    Type casting in Python is the process of converting one data type to another. It can be useful when we want to perform operations that require operands of the same data type or when we need to interpret a variable's value in a different type.\n",
        "\n",
        "\n",
        "    There are two types of type casting in Python:\n",
        "\n",
        "    > 1. Implicit Type Casting\n",
        "\n",
        "    In implicit type casting, Python automatically promotes a smaller data type to a larger data type to avoid data loss. For example, Python will convert an int to a float if a mathematical operation involves both types.\n",
        "\n",
        "    Implicit Type Casting: Python automatically converts one data type to another without explicit instruction.\n",
        "\n",
        "\n",
        "\n",
        "    > 2.  Explicit Type Casting\n",
        "\n",
        "    In explicit type casting, the programmer uses Python's built-in functions to manually convert a variable from one type to another. Common functions for explicit type casting include:\n",
        "\n",
        "    int() for converting to integer\n",
        "    float() for converting to float\n",
        "    str() for converting to string\n",
        "    list() for converting to list\n",
        "    tuple() for converting to tuple\n",
        "\n",
        "    Explicit Type Casting: The programmer explicitly converts one data type to another using specific functions.\n",
        "\n",
        "\n",
        "\n"
      ],
      "metadata": {
        "id": "LI1y0Mrs32oi"
      }
    },
    {
      "cell_type": "code",
      "source": [
        "# Example of Implicit Type Casting:\n",
        "\n",
        "num_int = 5       # Integer\n",
        "num_float = 4.5   # Float\n",
        "\n",
        "result = num_int + num_float  # Python converts num_int to float\n",
        "print(result)     # Output: 9.5\n",
        "print(type(result))  # Output: <class 'float'>\n"
      ],
      "metadata": {
        "colab": {
          "base_uri": "https://localhost:8080/"
        },
        "id": "0kDfm9GS5M03",
        "outputId": "0066d0e5-bbe1-4d48-a06f-b01c2f61a706"
      },
      "execution_count": null,
      "outputs": [
        {
          "output_type": "stream",
          "name": "stdout",
          "text": [
            "9.5\n",
            "<class 'float'>\n"
          ]
        }
      ]
    },
    {
      "cell_type": "code",
      "source": [
        "num_int = 5       # Integer\n",
        "num_float = 4.5   # Float\n",
        "\n",
        "result = num_int + num_float       # Python implicitly converts num_int to float\n",
        "result_int = int(result)            # Explicitly convert result to int\n",
        "print(result_int)                   # Output: 9\n",
        "print(type(result_int))             # Output: <class 'int'>\n"
      ],
      "metadata": {
        "colab": {
          "base_uri": "https://localhost:8080/"
        },
        "id": "tMgVL5-l7GgA",
        "outputId": "1f072ff9-0bda-416d-c77f-5214934c7280"
      },
      "execution_count": null,
      "outputs": [
        {
          "output_type": "stream",
          "name": "stdout",
          "text": [
            "9\n",
            "<class 'int'>\n"
          ]
        }
      ]
    },
    {
      "cell_type": "code",
      "source": [
        "#Example of Explicit Type Casting:\n",
        "\n",
        "# Converting float to integer\n",
        "num_float = 7.8\n",
        "num_int = int(num_float)  # Explicit casting\n",
        "print(num_int)      # Output: 7 (fractional part is truncated)\n",
        "print(type(num_int))  # Output: <class 'int'>"
      ],
      "metadata": {
        "colab": {
          "base_uri": "https://localhost:8080/"
        },
        "id": "yT1Fu_S-5gpn",
        "outputId": "f7fa0634-bc57-429f-b069-a52feb822c8f"
      },
      "execution_count": null,
      "outputs": [
        {
          "output_type": "stream",
          "name": "stdout",
          "text": [
            "7\n",
            "<class 'int'>\n"
          ]
        }
      ]
    },
    {
      "cell_type": "code",
      "source": [
        "# Converting string to integer\n",
        "num_str = \"123\"\n",
        "num_int = int(num_str)  # Explicit casting\n",
        "print(num_int)      # Output: 123\n",
        "print(type(num_int))  # Output: <class 'int'>"
      ],
      "metadata": {
        "colab": {
          "base_uri": "https://localhost:8080/"
        },
        "id": "q-FJz7U25h6C",
        "outputId": "5c220cb1-9b11-4f84-b792-fdeb504b37ad"
      },
      "execution_count": null,
      "outputs": [
        {
          "output_type": "stream",
          "name": "stdout",
          "text": [
            "123\n",
            "<class 'int'>\n"
          ]
        }
      ]
    },
    {
      "cell_type": "code",
      "source": [
        "# Converting integer to string\n",
        "num = 99\n",
        "num_str = str(num)  # Explicit casting\n",
        "print(num_str)      # Output: '99'\n",
        "print(type(num_str))  # Output: <class 'str'>"
      ],
      "metadata": {
        "colab": {
          "base_uri": "https://localhost:8080/"
        },
        "id": "Bs-ig6Y75onF",
        "outputId": "8541cca3-9931-46d6-b8c0-6d3c00fde29e"
      },
      "execution_count": null,
      "outputs": [
        {
          "output_type": "stream",
          "name": "stdout",
          "text": [
            "99\n",
            "<class 'str'>\n"
          ]
        }
      ]
    },
    {
      "cell_type": "code",
      "source": [],
      "metadata": {
        "id": "eHGcVg8a5sZV"
      },
      "execution_count": null,
      "outputs": []
    },
    {
      "cell_type": "markdown",
      "source": [
        "# 6.  How do conditional statements work in Python? Illustrate with examples.\n",
        "\n",
        "\n",
        "    In Python, conditional statements allow you to execute code base on        certain conditions. The most common conditional statements are:\n",
        "\n",
        "    if statement - Executes a block of code if a condition is true.\n",
        "\n",
        "\n",
        "    else statement - Executes a block of code if the condition is false (used with if).\n",
        "\n",
        "\n",
        "    elif statement - Checks another condition if the previous if condition was false.\n",
        "\n",
        "\n",
        "\n"
      ],
      "metadata": {
        "id": "o_d58dPQ8Nk7"
      }
    },
    {
      "cell_type": "code",
      "source": [
        "#Basic if statement\n",
        "age = 18\n",
        "if age >= 18:\n",
        "    print(\"You are eligible to vote.\")\n"
      ],
      "metadata": {
        "colab": {
          "base_uri": "https://localhost:8080/"
        },
        "id": "GFkJvmZS9FgG",
        "outputId": "b86c17e2-8c22-4174-94e5-9576e87b3409"
      },
      "execution_count": null,
      "outputs": [
        {
          "output_type": "stream",
          "name": "stdout",
          "text": [
            "You are eligible to vote.\n"
          ]
        }
      ]
    },
    {
      "cell_type": "code",
      "source": [
        "#Using if...else\n",
        "temperature = 30\n",
        "if temperature > 25:\n",
        "    print(\"It's warm outside.\")\n",
        "else:\n",
        "    print(\"It's cool outside.\")\n"
      ],
      "metadata": {
        "colab": {
          "base_uri": "https://localhost:8080/"
        },
        "id": "lJM2k45G9Od6",
        "outputId": "8a9167b1-c1b7-4ea7-88b6-d54e4aba85e7"
      },
      "execution_count": null,
      "outputs": [
        {
          "output_type": "stream",
          "name": "stdout",
          "text": [
            "It's warm outside.\n"
          ]
        }
      ]
    },
    {
      "cell_type": "code",
      "source": [
        "#Using if...else\n",
        "temperature = 30\n",
        "if temperature > 33:\n",
        "    print(\"It's warm outside.\")\n",
        "else:\n",
        "    print(\"It's cool outside.\")\n"
      ],
      "metadata": {
        "colab": {
          "base_uri": "https://localhost:8080/"
        },
        "id": "dLnmAz069hek",
        "outputId": "2f488333-00d4-447a-e46b-598fab845787"
      },
      "execution_count": null,
      "outputs": [
        {
          "output_type": "stream",
          "name": "stdout",
          "text": [
            "It's cool outside.\n"
          ]
        }
      ]
    },
    {
      "cell_type": "code",
      "source": [
        "#Using if...elif...else\n",
        "score = 85\n",
        "if score >= 90:\n",
        "    print(\"Grade: A\")\n",
        "elif score >= 80:\n",
        "    print(\"Grade: B\")\n",
        "elif score >= 70:\n",
        "    print(\"Grade: C\")\n",
        "else:\n",
        "    print(\"Grade: D\")\n"
      ],
      "metadata": {
        "colab": {
          "base_uri": "https://localhost:8080/"
        },
        "id": "_lKQhOHu9v7U",
        "outputId": "09e856c9-9176-4a3f-c761-6e02b178f4fb"
      },
      "execution_count": null,
      "outputs": [
        {
          "output_type": "stream",
          "name": "stdout",
          "text": [
            "Grade: B\n"
          ]
        }
      ]
    },
    {
      "cell_type": "code",
      "source": [
        "# Nested if statements\n",
        "age = 20\n",
        "has_id = True\n",
        "\n",
        "if age >= 18:\n",
        "    if has_id:\n",
        "        print(\"You can enter.\")\n",
        "    else:\n",
        "        print(\"ID required to enter.\")\n",
        "else:\n",
        "    print(\"You must be 18 or older to enter.\")\n"
      ],
      "metadata": {
        "colab": {
          "base_uri": "https://localhost:8080/"
        },
        "id": "eZ4-jPjb96aY",
        "outputId": "55a0be3e-1fbd-4bd9-d3a2-39d786688ad6"
      },
      "execution_count": null,
      "outputs": [
        {
          "output_type": "stream",
          "name": "stdout",
          "text": [
            "You can enter.\n"
          ]
        }
      ]
    },
    {
      "cell_type": "code",
      "source": [
        "age = 17\n",
        "has_id = True\n",
        "\n",
        "if age >= 18:\n",
        "    if has_id:\n",
        "        print(\"You can enter.\")\n",
        "    else:\n",
        "        print(\"ID required to enter.\")\n",
        "else:\n",
        "    print(\"You must be 18 or older to enter.\")\n"
      ],
      "metadata": {
        "colab": {
          "base_uri": "https://localhost:8080/"
        },
        "id": "WP5U7ilA-KIm",
        "outputId": "b03b2984-6b31-4b0b-e96f-5d64e9d0610f"
      },
      "execution_count": null,
      "outputs": [
        {
          "output_type": "stream",
          "name": "stdout",
          "text": [
            "You must be 18 or older to enter.\n"
          ]
        }
      ]
    },
    {
      "cell_type": "code",
      "source": [],
      "metadata": {
        "id": "8IPM04L6-X1J"
      },
      "execution_count": null,
      "outputs": []
    },
    {
      "cell_type": "markdown",
      "source": [
        "# 7.  Describe the different types of loops in Python and their use cases with examples.\n",
        "\n",
        "\n",
        "\n",
        "    Python provides several types of loops to execute a block of code repeatedly. The primary types of loops in Python are:\n",
        "\n",
        "     1. for loop\n",
        "     2. while loop\n",
        "     3. Nested loops\n",
        "\n",
        "\n",
        "\n",
        "     > 1.  for Loop\n",
        "\n",
        "    The for loop is used for iterating over a sequence (like a list, tuple, string, or range). It repeats a block of code for each item in the sequence.\n",
        "\n",
        "    Use Cases:\n",
        "\n",
        "    Iterating over a list of items.\n",
        "\n",
        "    Executing a block of code a specific number of times.\n",
        "\n",
        "    Traversing elements in a string or tuple.\n",
        "\n",
        "\n",
        "    > 2.  while Loop\n",
        "\n",
        "    The while loop repeats a block of code as long as a condition is True. It is useful when you don't know beforehand how many times you'll need to repeat the task.\n",
        "\n",
        "    Use Cases:\n",
        "\n",
        "    Repeating an action until a certain condition is met.\n",
        "\n",
        "    Creating loops where the end condition is determined by user input or some dynamic calculation.\n",
        "\n",
        "\n",
        "\n",
        "    > 3. . Nested Loops\n",
        "\n",
        "    A nested loop means having one loop inside another. It is useful when you need to perform actions in a multi-dimensional structure like a list of lists (e.g., a matrix).\n",
        "\n",
        "    Use Cases:\n",
        "\n",
        "    Working with tables or grids (like 2D lists).\n",
        "\n",
        "    Solving problems that involve combinations or permutations. Nested Loops.\n",
        "\n"
      ],
      "metadata": {
        "id": "P8RAduaKxpED"
      }
    },
    {
      "cell_type": "code",
      "source": [
        "# For loops example\n",
        "\n",
        "# Example 1: Iterating over a list\n",
        "fruits = ['apple', 'banana', 'cherry']\n",
        "for fruit in fruits:\n",
        "    print(fruit)\n"
      ],
      "metadata": {
        "colab": {
          "base_uri": "https://localhost:8080/"
        },
        "id": "bzR08JhLyVwF",
        "outputId": "8f7f8ac5-8cad-482b-cda3-058a39ea1bfd"
      },
      "execution_count": 2,
      "outputs": [
        {
          "output_type": "stream",
          "name": "stdout",
          "text": [
            "apple\n",
            "banana\n",
            "cherry\n"
          ]
        }
      ]
    },
    {
      "cell_type": "code",
      "source": [
        "# Example 2: Using `range` to repeat a task\n",
        "for i in range(5):  # Iterates from 0 to 4\n",
        "    print(\"Hello, World!\")"
      ],
      "metadata": {
        "colab": {
          "base_uri": "https://localhost:8080/"
        },
        "id": "odRo3u0XyhEV",
        "outputId": "ae4e74b3-74ec-4590-d75f-f42cab7c4d85"
      },
      "execution_count": 3,
      "outputs": [
        {
          "output_type": "stream",
          "name": "stdout",
          "text": [
            "Hello, World!\n",
            "Hello, World!\n",
            "Hello, World!\n",
            "Hello, World!\n",
            "Hello, World!\n"
          ]
        }
      ]
    },
    {
      "cell_type": "code",
      "source": [
        "# While loops example\n",
        "\n",
        "# Example: Counting down from 5 to 1\n",
        "count = 5\n",
        "while count > 0:\n",
        "    print(count)\n",
        "    count -= 1  # Decreases the count by 1 in each iteration\n",
        "\n"
      ],
      "metadata": {
        "colab": {
          "base_uri": "https://localhost:8080/"
        },
        "id": "S0p-ux9pylLy",
        "outputId": "ecb7c532-e3b3-4ec5-dbf0-ce3d47d116e1"
      },
      "execution_count": 4,
      "outputs": [
        {
          "output_type": "stream",
          "name": "stdout",
          "text": [
            "5\n",
            "4\n",
            "3\n",
            "2\n",
            "1\n"
          ]
        }
      ]
    },
    {
      "cell_type": "code",
      "source": [
        "#  Nested Loops example\n",
        "\n",
        "# Example: Printing a 2D list (matrix)\n",
        "matrix = [\n",
        "    [1, 2, 3],\n",
        "    [4, 5, 6],\n",
        "    [7, 8, 9]\n",
        "]\n",
        "\n",
        "for row in matrix:        # Outer loop for each row\n",
        "    for element in row:   # Inner loop for each element in the row\n",
        "        print(element, end=' ')\n",
        "    print()  # Moves to the next line after printing a row\n",
        "\n",
        "\n"
      ],
      "metadata": {
        "colab": {
          "base_uri": "https://localhost:8080/"
        },
        "id": "V-1T4yW3zsgi",
        "outputId": "d88e65db-447b-43c8-aa87-e41a30a22a94"
      },
      "execution_count": 5,
      "outputs": [
        {
          "output_type": "stream",
          "name": "stdout",
          "text": [
            "1 2 3 \n",
            "4 5 6 \n",
            "7 8 9 \n"
          ]
        }
      ]
    },
    {
      "cell_type": "code",
      "source": [],
      "metadata": {
        "id": "p1lDa2VXz1ZG"
      },
      "execution_count": null,
      "outputs": []
    }
  ]
}